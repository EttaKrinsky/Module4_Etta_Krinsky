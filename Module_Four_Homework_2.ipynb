{
  "cells": [
    {
      "cell_type": "markdown",
      "metadata": {
        "id": "view-in-github",
        "colab_type": "text"
      },
      "source": [
        "<a href=\"https://colab.research.google.com/github/EttaKrinsky/Module4_Etta_Krinsky/blob/main/Module_Four_Homework_2.ipynb\" target=\"_parent\"><img src=\"https://colab.research.google.com/assets/colab-badge.svg\" alt=\"Open In Colab\"/></a>"
      ]
    },
    {
      "cell_type": "markdown",
      "id": "7d25b115",
      "metadata": {
        "id": "7d25b115"
      },
      "source": [
        "\n",
        "# While & For Mastery — Syntax, Patterns, and Programs\n",
        "\n",
        "**Name:** _Etta Krinsky_  \n",
        "**Course:** _Programming I_  \n",
        "**Date:** _2025-10-19_\n",
        "\n",
        "**Learning goals**\n",
        "- Reintroduce the **syntax** and core **patterns** for `while` and `for` loops.\n",
        "- Use loops with **decision structures** (`if/elif/else`) and **`try/except`** for input validation.\n",
        "- Write non-trivial programs that require **reasoning**, not just template filling.\n",
        "- Practice **PEP 8** style: naming, whitespace, docstrings, and helpful comments. - SO PLEASE DO PEP 8 ASSIGNMENT FIRST\n",
        "\n",
        "\n",
        "**IDE usage**\n",
        "- Feel free to work within an IDE (PyCharm or IDLE) if you feel more comfortable, copying and pasting the answers here"
      ]
    },
    {
      "cell_type": "markdown",
      "source": [],
      "metadata": {
        "id": "co4zaM_oHdBi"
      },
      "id": "co4zaM_oHdBi"
    },
    {
      "cell_type": "markdown",
      "id": "02124153",
      "metadata": {
        "id": "02124153"
      },
      "source": [
        "\n",
        "## Part 0 — Quick Reference (Read & Run)\n",
        "\n",
        "### `for` loop (iterate over a sequence)\n",
        "```python\n",
        "for item in iterable:\n",
        "    # do something with item\n",
        "```\n",
        "\n",
        "### `while` loop (repeat until a condition changes)\n",
        "```python\n",
        "while condition:\n",
        "    # body\n",
        "```\n",
        "\n",
        "### Useful keywords\n",
        "- `break` — exit the nearest loop immediately  \n",
        "- `continue` — skip to next iteration  \n",
        "- `else` on loops — runs if the loop **didn't** `break`\n"
      ]
    },
    {
      "cell_type": "markdown",
      "id": "884708c5",
      "metadata": {
        "id": "884708c5"
      },
      "source": [
        "\n",
        "## Demo 1 — `for` Loop Fundamentals\n",
        "- Iterating lists/strings\n",
        "- Using `range(start, stop, step)`\n",
        "- Tracking indices with `enumerate`\n"
      ]
    },
    {
      "cell_type": "code",
      "execution_count": null,
      "id": "a9210b06",
      "metadata": {
        "id": "a9210b06",
        "colab": {
          "base_uri": "https://localhost:8080/"
        },
        "outputId": "23b4d425-bae0-4983-8bbd-63097a32c217"
      },
      "outputs": [
        {
          "output_type": "stream",
          "name": "stdout",
          "text": [
            "KOL\n",
            "NIDRE\n",
            "TEFILAH\n",
            "---\n",
            "2 4 6 8 10 \n",
            "---\n",
            "0: kol\n",
            "1: nidre\n",
            "2: tefilah\n"
          ]
        }
      ],
      "source": [
        "\n",
        "words = [\"kol\", \"nidre\", \"tefilah\"]\n",
        "\n",
        "# Basic iteration\n",
        "for w in words:\n",
        "    print(w.upper())\n",
        "\n",
        "print(\"---\")\n",
        "\n",
        "# Ranges\n",
        "for k in range(2, 11, 2):\n",
        "    print(k, end=\" \")\n",
        "print(\"\\n---\")\n",
        "\n",
        "# Enumerate for index + value\n",
        "for i, w in enumerate(words):\n",
        "    print(f\"{i}: {w}\")\n"
      ]
    },
    {
      "cell_type": "markdown",
      "id": "872c060a",
      "metadata": {
        "id": "872c060a"
      },
      "source": [
        "\n",
        "## Demo 2 — `while` Loop Fundamentals\n",
        "- Sentinel loops (stop when user types `done`)\n",
        "- Guarded updates to prevent infinite loops\n"
      ]
    },
    {
      "cell_type": "code",
      "execution_count": null,
      "id": "a16ab540",
      "metadata": {
        "id": "a16ab540",
        "colab": {
          "base_uri": "https://localhost:8080/"
        },
        "outputId": "bae53cb7-ecfa-425f-84f4-7679e6c362a3"
      },
      "outputs": [
        {
          "output_type": "stream",
          "name": "stdout",
          "text": [
            "Enter a number (or 'done'): 12\n",
            "Enter a number (or 'done'): 12\n",
            "Enter a number (or 'done'): 23\n",
            "Enter a number (or 'done'): Done\n",
            "Average: 15.666666666666666\n"
          ]
        }
      ],
      "source": [
        "\n",
        "# Sentinel-controlled input loop\n",
        "# Type numbers; type 'done' to stop. We sum only valid numbers.\n",
        "total = 0.0\n",
        "count = 0\n",
        "\n",
        "while True:\n",
        "    raw = input(\"Enter a number (or 'done'): \").strip().lower()\n",
        "    if raw == \"done\":\n",
        "        break\n",
        "    try:\n",
        "        num = float(raw)\n",
        "    except ValueError:\n",
        "        print(\"Not a number — try again.\")\n",
        "        continue\n",
        "    total += num\n",
        "    count += 1\n",
        "\n",
        "if count > 0:\n",
        "    print(\"Average:\", total / count)\n",
        "else:\n",
        "    print(\"No numbers entered.\")\n"
      ]
    },
    {
      "cell_type": "markdown",
      "id": "4f729477",
      "metadata": {
        "id": "4f729477"
      },
      "source": [
        "\n",
        "## Demo 3 — Try/Except + Decisions in Loops\n",
        "- Validate input in a loop\n",
        "- Use `if/elif/else` for branching behavior\n"
      ]
    },
    {
      "cell_type": "code",
      "execution_count": null,
      "id": "ef5f1557",
      "metadata": {
        "id": "ef5f1557",
        "colab": {
          "base_uri": "https://localhost:8080/"
        },
        "outputId": "4edc3e0a-02da-42aa-c2d8-2540d8ba43bf"
      },
      "outputs": [
        {
          "output_type": "stream",
          "name": "stdout",
          "text": [
            "Pick an integer from 1 to 10: 12\n",
            "Out of range.\n",
            "Pick an integer from 1 to 10: 10\n",
            "Thanks! You chose: 10\n"
          ]
        }
      ],
      "source": [
        "\n",
        "# Ask for an integer 1..10 with limited attempts.\n",
        "MAX_ATTEMPTS = 3\n",
        "attempts = 0\n",
        "value = None\n",
        "\n",
        "while attempts < MAX_ATTEMPTS:\n",
        "    try:\n",
        "        guess = int(input(\"Pick an integer from 1 to 10: \"))\n",
        "    except ValueError:\n",
        "        print(\"Please enter an integer.\")\n",
        "        attempts += 1\n",
        "        continue\n",
        "\n",
        "    if 1 <= guess <= 10:\n",
        "        value = guess\n",
        "        print(\"Thanks! You chose:\", value)\n",
        "        break\n",
        "    else:\n",
        "        print(\"Out of range.\")\n",
        "        attempts += 1\n",
        "\n",
        "if value is None:\n",
        "    print(\"No valid choice made. Exiting.\")\n"
      ]
    },
    {
      "cell_type": "markdown",
      "id": "4a3c313f",
      "metadata": {
        "id": "4a3c313f"
      },
      "source": [
        "\n",
        "## Patterns & Pitfalls\n",
        "- Prefer `for` for known collections/ranges; `while` for open-ended/state-driven loops.\n",
        "- Always **advance the loop state** in a `while` (avoid infinite loops).\n",
        "- Use **sentinels** like `'done'` to end user input.\n",
        "- Extract **helpers** with docstrings for single-purpose blocks.\n",
        "- Keep lines ≤ 79–99 characters and space around operators appropriately.\n"
      ]
    },
    {
      "cell_type": "markdown",
      "id": "05823ceb",
      "metadata": {
        "id": "05823ceb"
      },
      "source": [
        "\n",
        "## Program 1 — Running Statistics (Sentinel + Validation)\n",
        "\n",
        "**Write:** `stats_loop()` that repeatedly reads numbers from the user until they type `'done'`.  \n",
        "- Use `try/except` to validate input. Ignore invalid entries (warn and continue).  \n",
        "- Track **count, min, max, sum, average**.  \n",
        "- At the end, print a one-line summary like:  \n",
        "  `count=5 min=2.0 max=14.5 sum=33.0 avg=6.6`\n",
        "\n",
        "**Requirements:**\n",
        "- Use a **while loop** with a sentinel.\n",
        "- Use at least one **decision structure** (`if/elif/else`).\n",
        "- Follow **PEP 8** for naming, spacing, and comments.\n"
      ]
    },
    {
      "cell_type": "code",
      "source": [
        "\"\"\"\n",
        "Accept numbers from the user until they type \"done\"\n",
        "Calculate and print: Count, Minimum, Maximum, Sum, Average.\n",
        "\"\"\"\n",
        "\n",
        "\n",
        "def stats_loop():\n",
        "\n",
        "  count = 0\n",
        "  total = 0.0\n",
        "  minimum = None\n",
        "  maximum = None\n",
        "\n",
        "  while True:\n",
        "    raw = input(\"Type a Number (Type 'done' to end): \").strip().lower()\n",
        "    if raw == \"done\":\n",
        "      break\n",
        "    try:\n",
        "      num = float(raw)\n",
        "    except ValueError:\n",
        "      print(\"Invalid Input. Please Enter a Number or 'done'3.\")\n",
        "      continue # Continue here to skip the rest of the loop body for invalid input\n",
        "\n",
        "    count += 1\n",
        "    total += num\n",
        "\n",
        "    if minimum is None or num < minimum:\n",
        "      minimum = num\n",
        "    if maximum is None or num > maximum:\n",
        "      maximum = num\n",
        "\n",
        "  # Move the calculation of average and the print statement outside the loop\n",
        "  if count > 0:\n",
        "    average = total/count\n",
        "    print(f\"Count={count} Minimum={minimum:.1f} Maximum={maximum:.1f} Sum={total:.1f} Average={average:.1f}\")\n",
        "  else:\n",
        "    print(\"No numbers entered.\")\n",
        "\n",
        "stats_loop()"
      ],
      "metadata": {
        "colab": {
          "base_uri": "https://localhost:8080/"
        },
        "id": "7QVEoy4GwxI1",
        "outputId": "7b0bf6ec-6bb4-4eaf-8582-eb2a8c1a29d5"
      },
      "id": "7QVEoy4GwxI1",
      "execution_count": null,
      "outputs": [
        {
          "output_type": "stream",
          "name": "stdout",
          "text": [
            "Type a Number (Type 'done' to end): 12\n",
            "Type a Number (Type 'done' to end): 1\n",
            "Type a Number (Type 'done' to end): 1\n",
            "Type a Number (Type 'done' to end): 41111\n",
            "Type a Number (Type 'done' to end): Etta\n",
            "Invalid Input. Please Enter a Number or 'done'.\n",
            "Type a Number (Type 'done' to end): done\n",
            "Count=4 Minimum=1.0 Maximum=41111.0 Sum=41125.0 Average=10281.2\n"
          ]
        }
      ]
    },
    {
      "cell_type": "markdown",
      "id": "cc1cb2cf",
      "metadata": {
        "id": "cc1cb2cf"
      },
      "source": [
        "\n",
        "## Program 2 — Password Attempts (Decisions + While)\n",
        "\n",
        "**Write:** `login_sim(correct_password: str, max_attempts: int = 3)`  \n",
        "- Prompt until the user enters the correct password or attempts are exhausted.  \n",
        "- Enforce a **policy**: at least 8 chars, contains a digit and a letter.  \n",
        "- Provide **specific feedback** for failures using `if/elif/else`.  \n",
        "- Use `try/except` only if you choose to add extra parsing; the main need here is decisions + while.\n",
        "\n",
        "**Tip:** Put the policy check in a **helper function** with a docstring.\n"
      ]
    },
    {
      "cell_type": "code",
      "execution_count": null,
      "id": "cf5e5e3d",
      "metadata": {
        "id": "cf5e5e3d",
        "colab": {
          "base_uri": "https://localhost:8080/"
        },
        "outputId": "e68bcb1a-204a-4ac9-e86a-fe139bdaf639"
      },
      "outputs": [
        {
          "output_type": "stream",
          "name": "stdout",
          "text": [
            "Please Enter Your Password: asdlfkj\n",
            "Password must be at least 8 characters long\n",
            "Password must contain at least one digit\n",
            "Incorrect Password. Attempts Remaining: 2\n",
            "Please Enter Your Password: IntroClass\n",
            "Password must contain at least one digit\n",
            "Incorrect Password. Attempts Remaining: 1\n",
            "Please Enter Your Password: IntroClass140?\n",
            "Welcome!\n"
          ]
        }
      ],
      "source": [
        "\"\"\"\n",
        "Prompt until the User enters the correct password or attempts are exhausted.\n",
        "Enforce a policy: at least 8 chars, contains a digit and a letter.\n",
        "Provide specific feedback for failures using if/elif/else.\n",
        "\"\"\"\n",
        "\n",
        "\n",
        "def login_sim(correct_password: str, max_attempts: int = 3):\n",
        "\n",
        "  attempts = 0 #Starting off with no attempts.\n",
        "\n",
        "  while attempts < max_attempts: # While under the Maximum Attempts, the user can get another try\n",
        "\n",
        "    entered_password = input(\"Please Enter Your Password: \")\n",
        "\n",
        "    if len(entered_password) < 8:\n",
        "      print(\"Password must be at least 8 characters long\")\n",
        "      #The password needs to have the correct length\n",
        "\n",
        "    if not any(char.isdigit() for char in entered_password):\n",
        "      print(\"Password must contain at least one digit\")\n",
        "      #The password needs to have at least one digit\n",
        "\n",
        "    if not any(char.isalpha() for char in entered_password):\n",
        "      print(\"Password must contain at least one letter\")\n",
        "      #The password needs to have at least one letter\n",
        "\n",
        "    if entered_password == correct_password:\n",
        "      print(\"Welcome!\")\n",
        "      break\n",
        "      #If it's the correct password, the loop is over\n",
        "\n",
        "    else:\n",
        "      attempts += 1\n",
        "      print(f\"Incorrect Password. Attempts Remaining: {max_attempts-attempts}\")\n",
        "      # If it is not the correct password, then the number of attempts goes down by one\n",
        "\n",
        "\n",
        "  if attempts >= max_attempts:\n",
        "    print(\"Too Many Failed Attempts. Access Denied.\")\n",
        "    #Too many wrong attempts will mean no access for the user\n",
        "\n",
        "login_sim(\"IntroClass140?\")"
      ]
    },
    {
      "cell_type": "markdown",
      "id": "9efbc851",
      "metadata": {
        "id": "9efbc851"
      },
      "source": [
        "\n",
        "## Program 3 — Collatz Analyzer (While + Decisions)\n",
        "\n",
        "**Write:** `collatz_steps(n: int) -> int` that returns the number of steps to reach 1 using the Collatz rules:  \n",
        "- If `n` is even, `n = n // 2`  \n",
        "- Else `n = 3*n + 1`\n",
        "\n",
        "**Then write:** `collatz_report(start: int, stop: int)` that prints the number between `start` and `stop` (inclusive) with the **maximum** steps and the step count.\n",
        "\n",
        "** Note there are two aspects of this question which are tricky.\n",
        "- [ ] the for loop in `collatz_report` is written `for num in (start, stop)`\n",
        "- [ ] you are calling `collatz_steps` from within `collatz_report` and it is this loop that keeps track of where the ** maximum ** steps and step count are found. So `collatz_steps` is **not** called from the main program\n",
        "\n",
        "**Requirements:**\n",
        "- Input validation with `try/except` in a wrapper `main()` that reads `start` and `stop` from the user.\n",
        "- Use a **for** loop in `collatz_report`; use a **while** loop in `collatz_steps`.\n",
        "- Use decisions appropriately.\n"
      ]
    },
    {
      "cell_type": "code",
      "execution_count": 37,
      "id": "6e7a622e",
      "metadata": {
        "id": "6e7a622e",
        "colab": {
          "base_uri": "https://localhost:8080/"
        },
        "outputId": "e0f7ff8f-cfb4-487f-de37-ba4ecbebbcb8"
      },
      "outputs": [
        {
          "output_type": "stream",
          "name": "stdout",
          "text": [
            "Enter the start number: 25\n",
            "Enter the stop number: 69\n",
            "Number: 25, Steps: 23\n",
            "Number: 27, Steps: 111\n",
            "Number: 54, Steps: 112\n",
            "The number with the most steps \n",
            "between 25 and 69 is 54 with 112 steps.\n"
          ]
        }
      ],
      "source": [
        "def collatz_steps(n: int) -> int:\n",
        "  \"\"\"\n",
        "  Returns the number of steps to reach 1 using the Collatz rules.\n",
        "  \"\"\"\n",
        "  steps = 0\n",
        "#While loop until n becomes one.  We check if n is even and act accordingly\n",
        "  while n != 1:\n",
        "    if n % 2 == 0:\n",
        "      n = n // 2\n",
        "    else:\n",
        "      n = 3 * n + 1\n",
        "    steps += 1\n",
        "#return the steps for the next part of the code\n",
        "  return steps\n",
        "\n",
        "\n",
        "def collatz_report(start: int, stop: int):\n",
        "  \"\"\"\n",
        "  Prints the number between start and stop (inclusive) with the\n",
        "  maximum steps and the step count.\n",
        "  \"\"\"\n",
        "\n",
        "  max_steps = 0\n",
        "  max_num = 0\n",
        "\n",
        "  for num in range(start, stop + 1):\n",
        "    steps = collatz_steps(num)\n",
        "\n",
        "    if steps > max_steps:\n",
        "      max_steps = steps\n",
        "      max_num = num\n",
        "\n",
        "      print(f\"Number: {num}, Steps: {steps}\")\n",
        "#two lines to print so that the code is not too long\n",
        "  print(f\"The number with the most steps \")\n",
        "  print(f\"between {start} and {stop} is {max_num} with {max_steps} steps.\")\n",
        "\n",
        "#putting all the variables together to get desired results\n",
        "def main():\n",
        "  try:\n",
        "    start = int(input(\"Enter the start number: \"))\n",
        "    stop = int(input(\"Enter the stop number: \"))\n",
        "\n",
        "    if start <= 0 or stop <= 0:\n",
        "       print(\"Positive Integers Only. Please Try Again.\")\n",
        "       return\n",
        "\n",
        "    if start > stop:\n",
        "        print(\"Start must be less than or equal to stop.\")\n",
        "        return\n",
        "\n",
        "    collatz_report(start, stop)\n",
        "\n",
        "  except ValueError:\n",
        "      print(\"Invalid Input. Positive Inteers Only.\")\n",
        "\n",
        "if __name__ == \"__main__\":\n",
        "  main()"
      ]
    },
    {
      "cell_type": "markdown",
      "id": "c2ec00e1",
      "metadata": {
        "id": "c2ec00e1"
      },
      "source": [
        "\n",
        "## Program 4 — Grid Count (Nested Loops + Decisions)\n",
        "\n",
        "** this exercise we will skip as it is a nested loop structure, we will learn this next class - so you receive free points here."
      ]
    },
    {
      "cell_type": "code",
      "execution_count": null,
      "id": "daf5f519",
      "metadata": {
        "id": "daf5f519"
      },
      "outputs": [],
      "source": [
        "# your code here"
      ]
    },
    {
      "cell_type": "markdown",
      "id": "ecba85ff",
      "metadata": {
        "id": "ecba85ff"
      },
      "source": [
        "\n",
        "## Program 5 — Receipt Parser (While + Try/Except + Decisions)\n",
        "\n",
        "**Write:** `receipt_total()` that repeatedly reads lines like `item,quantity,price` until the user types `'done'`.  \n",
        "- Validate that `quantity` is an integer and `price` is a float.  \n",
        "- Accumulate a subtotal and print a formatted receipt at the end.  \n",
        "- Ignore malformed lines (warn and continue).\n",
        "\n",
        "**Example input:**\n",
        "```\n",
        "apple,2,1.25\n",
        "banana,3,0.60\n",
        "done\n",
        "```\n",
        "**Output end line:**\n",
        "```\n",
        "Items: 2  Units: 5  Subtotal: $3.65\n",
        "```\n"
      ]
    },
    {
      "cell_type": "code",
      "source": [
        "def receipt_total():\n",
        "    \"\"\"\n",
        "    Reads item, quantity, price from user until 'done',\n",
        "    validates input, and calculates the total receipt.\n",
        "    \"\"\"\n",
        "    total_items = 0\n",
        "    total_quantity = 0\n",
        "    subtotal = 0\n",
        "    Total = 0.0\n",
        "    #Defining each variable and starting at zero\n",
        "\n",
        "    while True:\n",
        "        item = input(\"Enter an item (or 'done'): \").strip().lower()\n",
        "        if item == \"done\":\n",
        "            break\n",
        "        #Ending the loop if the cashier is done\n",
        "\n",
        "        if item != \"done\":\n",
        "            try:\n",
        "               # Giving the ability to continuously add items\n",
        "                quantity = int(input(\"Enter the quantity: \"))\n",
        "                price = float(input(\"Enter the price: \"))\n",
        "                subtotal += quantity * price\n",
        "\n",
        "                #Tell the customer the amount for each total quantity of each item\n",
        "                print(f\"Item: {item}, Quantity: {quantity}, Subtotal: ${subtotal:.2f}\")\n",
        "\n",
        "                #Add to the final total to keep track for the receipt\n",
        "                total_items += 1\n",
        "                total_quantity += quantity\n",
        "                Total += quantity * price\n",
        "\n",
        "                continue\n",
        "\n",
        "\n",
        "            except ValueError:\n",
        "\n",
        "                print(\"Invalid quantity or price. Please enter numbers.\")\n",
        "\n",
        "                continue\n",
        "\n",
        "\n",
        "    print(f\"Items: {total_items}  Units: {total_quantity}  Total: ${Total:.2f}\")\n",
        "   #Print the reciept for the customer\n",
        "    print(\"Thank you for Shopping Today!\")\n",
        "\n",
        "receipt_total()"
      ],
      "metadata": {
        "colab": {
          "base_uri": "https://localhost:8080/"
        },
        "id": "4Jn97f5gR5S9",
        "outputId": "4a8bb7e7-fa02-460b-aea9-64566ebe2daa"
      },
      "id": "4Jn97f5gR5S9",
      "execution_count": null,
      "outputs": [
        {
          "output_type": "stream",
          "name": "stdout",
          "text": [
            "Enter an item (or 'done'): apples\n",
            "Enter the quantity: 5\n",
            "Enter the price: .798\n",
            "Item: apples, Quantity: 5, Subtotal: $3.99\n",
            "Enter an item (or 'done'): grapes\n",
            "Enter the quantity: 12\n",
            "Enter the price: .65\n",
            "Item: grapes, Quantity: 12, Subtotal: $11.79\n",
            "Enter an item (or 'done'): done\n",
            "Items: 2  Units: 17  Total: $11.79\n",
            "Thank you for Shopping Today!\n"
          ]
        }
      ]
    },
    {
      "cell_type": "markdown",
      "id": "96844e4c",
      "metadata": {
        "id": "96844e4c"
      },
      "source": [
        "\n",
        "## Optional Challenge — Prime Gaps (For + Decisions)\n",
        "\n",
        "Write `is_prime(n: int) -> bool` and then `max_gap(a: int, b: int) -> tuple[int,int,int]` that returns `(p, q, gap)` where `p` and `q` are consecutive primes in `[a, b]` with the **largest** gap.\n",
        "\n",
        "- Use **for** loops and decisions; keep it simple and readable.\n"
      ]
    },
    {
      "cell_type": "markdown",
      "id": "4eddd5e9",
      "metadata": {
        "id": "4eddd5e9"
      },
      "source": [
        "\n",
        "## Submission Checklist\n",
        "- [ ] I used `while` and/or `for` appropriately for each task.\n",
        "- [ ] I validated user input with `try/except` where required.\n",
        "- [ ] I used clear names, docstrings, and helpful comments.\n",
        "- [ ] I kept lines ≤ 79–99 chars and used proper whitespace.\n",
        "- [ ] ***  I have removed the reference to asserts as we have not learned this yet\n"
      ]
    },
    {
      "cell_type": "markdown",
      "id": "96a91da6",
      "metadata": {
        "id": "96a91da6"
      },
      "source": [
        "\n",
        "## Grading Rubric (25 pts)\n",
        "\n",
        "| Criterion | Points |\n",
        "|---|---:|\n",
        "| Program 1 — Stats loop (correctness + validation + clarity) | 6 |\n",
        "| Program 2 — Password attempts (logic + decisions + clarity) | 5 |\n",
        "| Program 3 — Collatz analyzer (while + for + validation) | 6 |\n",
        "| Program 5 — Grid count (nested loops + tests) | 5 |\n",
        "| Overall PEP 8 style & explanations | 3 |\n"
      ]
    }
  ],
  "metadata": {
    "colab": {
      "provenance": [],
      "include_colab_link": true
    },
    "language_info": {
      "name": "python"
    },
    "kernelspec": {
      "name": "python3",
      "display_name": "Python 3"
    }
  },
  "nbformat": 4,
  "nbformat_minor": 5
}